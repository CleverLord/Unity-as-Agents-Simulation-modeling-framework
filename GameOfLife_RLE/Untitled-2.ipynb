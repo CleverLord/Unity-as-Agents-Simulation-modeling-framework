{
 "cells": [
  {
   "cell_type": "code",
   "execution_count": 2,
   "metadata": {},
   "outputs": [],
   "source": [
    "from PIL import Image\n",
    "\n",
    "def replicate_image(input_image_path, output_image_path, n, m):\n",
    "    # Open the image\n",
    "    img = Image.open(input_image_path)\n",
    "\n",
    "    # Get the dimensions of the input image\n",
    "    width, height = img.size\n",
    "\n",
    "    # Create a new image with the required dimensions\n",
    "    new_width = width * n\n",
    "    new_height = height * m\n",
    "    new_img = Image.new(\"RGB\", (new_width, new_height))\n",
    "\n",
    "    # Copy the input image onto the new image\n",
    "    for i in range(m):\n",
    "        for j in range(n):\n",
    "            new_img.paste(img, (j * width, i * height))\n",
    "\n",
    "    # Save the new image\n",
    "    new_img.save(output_image_path)\n",
    "\n",
    "# Usage example\n",
    "input_image = \"Oscilator.png\"  # Replace with your input image path\n",
    "output_image = \"Oscilators.png\"  # Replace with the desired output path\n",
    "replicate_image(input_image, output_image, 32, 32)  # Replace 3 and 2 with desired repetitions\n"
   ]
  },
  {
   "cell_type": "code",
   "execution_count": null,
   "metadata": {},
   "outputs": [],
   "source": []
  }
 ],
 "metadata": {
  "kernelspec": {
   "display_name": ".venv",
   "language": "python",
   "name": "python3"
  },
  "language_info": {
   "codemirror_mode": {
    "name": "ipython",
    "version": 3
   },
   "file_extension": ".py",
   "mimetype": "text/x-python",
   "name": "python",
   "nbconvert_exporter": "python",
   "pygments_lexer": "ipython3",
   "version": "3.9.13"
  }
 },
 "nbformat": 4,
 "nbformat_minor": 2
}
